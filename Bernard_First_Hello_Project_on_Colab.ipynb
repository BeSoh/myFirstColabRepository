{
  "nbformat": 4,
  "nbformat_minor": 0,
  "metadata": {
    "colab": {
      "name": "Bernard First Hello Project on Colab",
      "provenance": [],
      "authorship_tag": "ABX9TyP7K3/O6zovdtsBNQYMkL8I",
      "include_colab_link": true
    },
    "kernelspec": {
      "name": "python3",
      "display_name": "Python 3"
    }
  },
  "cells": [
    {
      "cell_type": "markdown",
      "metadata": {
        "id": "view-in-github",
        "colab_type": "text"
      },
      "source": [
        "<a href=\"https://colab.research.google.com/github/BeSoh/myFirstColabRepository/blob/main/Bernard_First_Hello_Project_on_Colab.ipynb\" target=\"_parent\"><img src=\"https://colab.research.google.com/assets/colab-badge.svg\" alt=\"Open In Colab\"/></a>"
      ]
    },
    {
      "cell_type": "code",
      "execution_count": 9,
      "metadata": {
        "colab": {
          "base_uri": "https://localhost:8080/",
          "height": 35
        },
        "id": "PyN1nuw9ucE_",
        "outputId": "06de05dd-05de-4928-cde7-dfc62efa8167"
      },
      "outputs": [
        {
          "output_type": "execute_result",
          "data": {
            "text/plain": [
              "'Hello. There are 365 days in a year and 366 days in a leap year'"
            ],
            "application/vnd.google.colaboratory.intrinsic+json": {
              "type": "string"
            }
          },
          "metadata": {},
          "execution_count": 9
        }
      ],
      "source": [
        "seconds_in_a_minute = 60\n",
        "minutes_in_an_hour = 60\n",
        "hours_in_a_day = 24\n",
        "days_in_a_week = 7\n",
        "weeks_in_a_year = 52.1429\n",
        "weeks_in_a_leapyear = 52.286\n",
        "days_in_a_year = days_in_a_week * weeks_in_a_year \n",
        "days_in_a_leapyear = days_in_a_week * weeks_in_a_leapyear\n",
        "'Hello. ' + 'There are ' + str(round(days_in_a_year)) + ' days in a year and ' + str(round(days_in_a_leapyear)) + ' days in a leap year'\n"
      ]
    }
  ]
}